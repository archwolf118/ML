{
 "cells": [
  {
   "cell_type": "markdown",
   "metadata": {
    "deletable": true,
    "editable": true
   },
   "source": [
    "# 机器学习工程师纳米学位\n",
    "## 深度学习\n",
    "## 项目：搭建一个数字识别项目\n",
    "\n",
    "在此文件中，我们提供给你了一个模板，以便于你根据项目的要求一步步实现要求的功能，进而完成整个项目。如果你认为需要导入另外的一些代码，请确保你正确导入了他们，并且包含在你的提交文件中。以**'练习'**开始的标题表示接下来你将开始实现你的项目。注意有一些练习是可选的，并且用**'可选'**标记出来了。\n",
    "\n",
    "在此文件中，有些示例代码已经提供给你，但你还需要实现更多的功能让项目成功运行。除非有明确要求，你无须修改任何已给出的代码。以'练习'开始的标题表示接下来的代码部分中有你必须要实现的功能。每一部分都会有详细的指导，需要实现的部分也会在注释中以'TODO'标出。请仔细阅读所有的提示！\n",
    "\n",
    "除了实现代码外，你还必须回答一些与项目和你的实现有关的问题。每一个需要你回答的问题都会以**'问题 X'**为标题。请仔细阅读每个问题，并且在问题后的**'回答'**文字框中写出完整的答案。我们将根据你对问题的回答和撰写代码所实现的功能来对你提交的项目进行评分。\n",
    "\n",
    ">**注意：** Code 和 Markdown 区域可通过 **Shift + Enter** 快捷键运行。此外，Markdown可以通过双击进入编辑模式。"
   ]
  },
  {
   "cell_type": "markdown",
   "metadata": {
    "deletable": true,
    "editable": true
   },
   "source": [
    "## 连接 mnist 的字符来合成数据\n",
    "\n",
    "你可以通过连接[MNIST](http://yann.lecun.com/exdb/mnist/)的字符来合成数据来训练这个模型。为了快速导入数据集，我们可以使用 [Keras Datasets](https://keras.io/datasets/#mnist-database-of-handwritten-digits) [中文文档](http://keras-cn.readthedocs.io/en/latest/other/datasets/#mnist)。"
   ]
  },
  {
   "cell_type": "markdown",
   "metadata": {
    "deletable": true,
    "editable": true
   },
   "source": [
    "### 载入 mnist"
   ]
  },
  {
   "cell_type": "code",
   "execution_count": 1,
   "metadata": {
    "collapsed": false,
    "deletable": true,
    "editable": true
   },
   "outputs": [
    {
     "name": "stderr",
     "output_type": "stream",
     "text": [
      "Using TensorFlow backend.\n"
     ]
    }
   ],
   "source": [
    "from keras.datasets import mnist\n",
    "\n",
    "(X_raw, y_raw), (X_raw_test, y_raw_test) = mnist.load_data()\n",
    "\n",
    "n_train, n_test = X_raw.shape[0], X_raw_test.shape[0]"
   ]
  },
  {
   "cell_type": "markdown",
   "metadata": {
    "deletable": true,
    "editable": true
   },
   "source": [
    "### 可视化 mnist\n",
    "\n",
    "我们可以通过 matplotlib 来可视化我们的原始数据集。"
   ]
  },
  {
   "cell_type": "code",
   "execution_count": 2,
   "metadata": {
    "collapsed": false,
    "deletable": true,
    "editable": true
   },
   "outputs": [
    {
     "data": {
      "image/png": "[encoded data removed]",
      "text/plain": [
       "<matplotlib.figure.Figure at 0x138924a8>"
      ]
     },
     "metadata": {
      "image/png": {
       "height": 257,
       "width": 370
      }
     },
     "output_type": "display_data"
    }
   ],
   "source": [
    "import matplotlib.pyplot as plt\n",
    "import random\n",
    "\n",
    "%matplotlib inline\n",
    "%config InlineBackend.figure_format = 'retina'\n",
    "\n",
    "\n",
    "for i in range(15):\n",
    "    plt.subplot(3, 5,i+1)\n",
    "    index = random.randint(0, n_train-1)\n",
    "    plt.title(str(y_raw[index]))\n",
    "    plt.imshow(X_raw[index], cmap='gray')\n",
    "    plt.axis('off')"
   ]
  },
  {
   "cell_type": "markdown",
   "metadata": {
    "deletable": true,
    "editable": true
   },
   "source": [
    "### 练习：合成数据\n",
    "\n",
    "你需要随机取随机张图片，然后将它们拼接成新的图片。\n",
    "\n",
    "你需要设置20%的数据作为验证集，以保证模型没有过拟合。"
   ]
  },
  {
   "cell_type": "code",
   "execution_count": 66,
   "metadata": {
    "collapsed": false,
    "deletable": true,
    "editable": true
   },
   "outputs": [
    {
     "name": "stdout",
     "output_type": "stream",
     "text": [
      "Caculating, please waiting...\n",
      "Training_data_set is finished.\n",
      "Validation_data_set is finished.\n",
      "Testing_data_set is finished.\n",
      "Spend: 8.269050 s\n"
     ]
    }
   ],
   "source": [
    "import numpy as np\n",
    "from sklearn.model_selection import train_test_split\n",
    "import time\n",
    "start = time.clock()\n",
    "\n",
    "n_class, n_len, width, height = 11, 5, 28, 28\n",
    "\n",
    "#生成一个含有5个元素的list，由1和0组成；1代表图片，0代表空字符，并且list的元素是随机分配的\n",
    "def random_list():\n",
    "    #随机取1~5个1\n",
    "    n_picture = random.randint(1,5)\n",
    "    rlist = []\n",
    "    for i in range(n_picture):\n",
    "        rlist.append(1)\n",
    "    #如果不足5个1,余下的位置添0    \n",
    "    if n_picture <5:\n",
    "        for i in range((5 - n_picture)):\n",
    "            rlist.append(0)\n",
    "    #用random.sample命令洗牌，让1在list中随机分配\n",
    "    return random.sample(rlist,5)\n",
    "\n",
    "#生成数据集\n",
    "def generate_dataset(X, y):\n",
    "    X_len = X.shape[0]\n",
    "    X_gen = np.zeros((X_len, height, width*n_len, 1), dtype=np.uint8)\n",
    "    y_gen = [np.zeros((X_len, n_class), dtype=np.uint8) for i in range(n_len)]\n",
    "\n",
    "    # TODO: 随机取1~5个数字，并拼接成新的图片\n",
    "    for i in range(X_len):\n",
    "        \n",
    "        #初始一个28行的空矩阵，每得到一个图片数据就横向添加一个矩阵\n",
    "        c = np.array([[] for m in range(28)])\n",
    "        \n",
    "        #读取一个随机的random_list\n",
    "        for k, picture in enumerate(random_list()):            \n",
    "            #如果是图片（在random_list中是数字1）的话，随机从图片库中选取一个图片\n",
    "            if picture == 1:\n",
    "                #如果是图片的话，从输入的数据集中随机挑一个图片\n",
    "                index = random.randint(0, X_len-1)\n",
    "                c = np.concatenate((c,X[index]),axis=1)\n",
    "                #如果是图片的话，标签用独热编码表示\n",
    "                y_gen[k][i,y[index]] = True\n",
    "            else:\n",
    "                #如果不是图片的话，横向添加一个28*28的零矩阵\n",
    "                c = np.concatenate((c,np.zeros((28,28), dtype=np.uint8)),axis=1) \n",
    "                #不是图片的标签是[0,0,0,0,0,0,0,0,0,0,1]\n",
    "                y_gen[k][i,10] = True\n",
    "                \n",
    "        X_gen[i] = c.reshape(28,140,1)\n",
    "        \n",
    "    return X_gen, y_gen\n",
    "\n",
    "#设置20%的数据作为验证集\n",
    "X_raw_train, X_raw_valid, y_raw_train, y_raw_valid = train_test_split(X_raw, y_raw, test_size = 0.2,random_state = 0)\n",
    "print('Caculating, please waiting...')\n",
    "\n",
    "X_train, y_train = generate_dataset(X_raw_train, y_raw_train)\n",
    "print('Training_data_set is finished.')\n",
    "\n",
    "X_valid, y_valid = generate_dataset(X_raw_valid, y_raw_valid)\n",
    "print('Validation_data_set is finished.')\n",
    "\n",
    "X_test, y_test = generate_dataset(X_raw_test, y_raw_test)\n",
    "print('Testing_data_set is finished.')\n",
    "\n",
    "end = time.clock()\n",
    "print (\"Spend: %f s\" % (end - start))"
   ]
  },
  {
   "cell_type": "code",
   "execution_count": 67,
   "metadata": {
    "collapsed": false,
    "deletable": true,
    "editable": true
   },
   "outputs": [
    {
     "data": {
      "image/png": "[encoded data removed]",
      "text/plain": [
       "<matplotlib.figure.Figure at 0x1eb9b208>"
      ]
     },
     "metadata": {
      "image/png": {
       "height": 246,
       "width": 370
      }
     },
     "output_type": "display_data"
    }
   ],
   "source": [
    "# 显示生成的图片\n",
    "for i in range(15):\n",
    "    plt.subplot(5, 3, i+1)\n",
    "    index = random.randint(0, n_test-1)\n",
    "    title = ''\n",
    "    for j in range(n_len):\n",
    "        title += str(np.argmax(y_test[j][index])) + ','\n",
    "    \n",
    "    plt.title(title)\n",
    "    plt.imshow(X_test[index][:,:,0], cmap='gray')\n",
    "    plt.axis('off')"
   ]
  },
  {
   "cell_type": "markdown",
   "metadata": {
    "deletable": true,
    "editable": true
   },
   "source": [
    "### 问题 1\n",
    "_你是如何合成数据集的？，为什么要分训练集，验证集和测试集？_\n",
    "\n",
    "**回答：**  \n",
    "合成数据的方式：\n",
    "- 把X_raw, y_raw用sklearn的train_test_split函数生成训练集和验证集，训练集的数量是48000个图片+标签，验证集的数量是12000个图片+标签。\n",
    "\n",
    "\n",
    "- 首先编写程序random_list，这个程序随机生成一个由5个元素组成的list，这个list中有至少一个1，最多5个1，其余都为0；1代表这个位置有图片，0代表这个位置没有图片,并且1和0的位置是随机分配的。\n",
    "\n",
    "\n",
    "- 编写generate_dataset程序，这个程序可以把输入的训练集，验证集和测试集扩充为由“**新图片**”组成的数据集，新图片是原有数据集中随机的1~5个图片横向拼接形成的。例如：训练集输入到该程序，我们根据训练集的数量进行循环，每次循环内都会遍历一遍新生成的random_list；如果是1，那么我们随机从训练集中找1张图片放到1对应的位置，如果是0我们就用一个全是0的numpy矩阵放到该位置，用concatenate命令把这些图片数据横向拼接到一起，新的训练集的图片与旧的训练集图片数量一致，但是新数据集中的每个图片由28*140个像素点组成。\n",
    "\n",
    "\n",
    "- 新的标签集是一个list，这个list由5个np.array组成,每个np.array代表相应位置的图片的**标签集**，比如第一个np.array代表排列在第一幅图片位置的标签集，这个标签集的每个元素代表着数字或空字符，而“数字和空字符”是由“独热编码”表示的，独热编码有11个元素，第11位是1代表这个图片是一个空字符。 \n",
    "\n",
    "综上所述，我们根据原有的训练集，验证集和测试集扩充为新的训练集，验证集和测试集，新的集合元素数量不变，所不同的就是集合的每个元素变为“随机取随机张图片”组合的图片。   \n",
    "\n",
    "训练集的用处是：拟合模型的参数。验证集的功能就是调整模型的超参数。测试集的作用就是评估模型的表现（范化性能）。"
   ]
  },
  {
   "cell_type": "markdown",
   "metadata": {
    "deletable": true,
    "editable": true
   },
   "source": [
    "### 练习：设计并测试一个模型架构\n",
    "\n",
    "设计并实现一个能够识别数字序列的深度学习模型。为了产生用于测试的合成数字序列，你可以进行如下的设置：比如，你可以限制一个数据序列最多五个数字，并在你的深度网络上使用五个分类器。同时，你有必要准备一个额外的“空白”的字符，以处理相对较短的数字序列。\n",
    "\n",
    "在思考这个问题的时候有很多方面可以考虑：\n",
    "\n",
    "- 你的模型可以基于深度神经网络或者是卷积神经网络。\n",
    "- 你可以尝试是否在每个分类器间共享权值。\n",
    "- 你还可以在深度神经网络中使用循环网络来替换其中的分类层，并且将数字序列里的数字一个一个地输出。\n",
    "\n",
    "在使用 Keras 搭建模型的时候，你可以使用 [泛型模型](http://keras-cn.readthedocs.io/en/latest/models/model/) 的方式来搭建多输出模型。"
   ]
  },
  {
   "cell_type": "code",
   "execution_count": 68,
   "metadata": {
    "collapsed": false,
    "deletable": true,
    "editable": true,
    "scrolled": true
   },
   "outputs": [
    {
     "name": "stderr",
     "output_type": "stream",
     "text": [
      "C:\\Users\\archwolf\\Anaconda2\\envs\\py35\\lib\\site-packages\\ipykernel\\__main__.py:24: UserWarning: Update your `Model` call to the Keras 2 API: `Model(outputs=[<tf.Tenso..., inputs=Tensor(\"in...)`\n"
     ]
    },
    {
     "name": "stdout",
     "output_type": "stream",
     "text": [
      "____________________________________________________________________________________________________\n",
      "Layer (type)                     Output Shape          Param #     Connected to                     \n",
      "====================================================================================================\n",
      "input_6 (InputLayer)             (None, 28, 140, 1)    0                                            \n",
      "____________________________________________________________________________________________________\n",
      "conv2d_11 (Conv2D)               (None, 26, 138, 32)   320                                          \n",
      "____________________________________________________________________________________________________\n",
      "max_pooling2d_11 (MaxPooling2D)  (None, 13, 69, 32)    0                                            \n",
      "____________________________________________________________________________________________________\n",
      "dropout_21 (Dropout)             (None, 13, 69, 32)    0                                            \n",
      "____________________________________________________________________________________________________\n",
      "conv2d_12 (Conv2D)               (None, 9, 65, 64)     51264                                        \n",
      "____________________________________________________________________________________________________\n",
      "max_pooling2d_12 (MaxPooling2D)  (None, 4, 32, 64)     0                                            \n",
      "____________________________________________________________________________________________________\n",
      "dropout_22 (Dropout)             (None, 4, 32, 64)     0                                            \n",
      "____________________________________________________________________________________________________\n",
      "flatten_6 (Flatten)              (None, 8192)          0                                            \n",
      "____________________________________________________________________________________________________\n",
      "dense_26 (Dense)                 (None, 11)            90123                                        \n",
      "____________________________________________________________________________________________________\n",
      "dense_27 (Dense)                 (None, 11)            90123                                        \n",
      "____________________________________________________________________________________________________\n",
      "dense_28 (Dense)                 (None, 11)            90123                                        \n",
      "____________________________________________________________________________________________________\n",
      "dense_29 (Dense)                 (None, 11)            90123                                        \n",
      "____________________________________________________________________________________________________\n",
      "dense_30 (Dense)                 (None, 11)            90123                                        \n",
      "====================================================================================================\n",
      "Total params: 502,199\n",
      "Trainable params: 502,199\n",
      "Non-trainable params: 0\n",
      "____________________________________________________________________________________________________\n"
     ]
    }
   ],
   "source": [
    "from keras.models import Model\n",
    "from keras.layers import *\n",
    "from keras.models import Sequential\n",
    "\n",
    "# TODO: 构建你的模型\n",
    "x = Input((28, 140, 1))\n",
    "\n",
    "y = convolutional.Conv2D(32,3,strides=(1, 1), activation='relu', padding='valid')(x)\n",
    "y = MaxPooling2D(pool_size = (2, 2),strides = (2, 2))(y)\n",
    "y = Dropout(0.25)(y)\n",
    "\n",
    "y = convolutional.Conv2D(64,5,strides=(1, 1),activation='relu', padding='valid')(y)\n",
    "y = MaxPooling2D(pool_size = (2, 2),strides = (2, 2))(y)\n",
    "y = Dropout(0.25)(y)\n",
    "\n",
    "y = Flatten()(y)\n",
    "\n",
    "digit1 = Dense(11, activation='softmax')(y)\n",
    "digit2 = Dense(11, activation='softmax')(y)\n",
    "digit3 = Dense(11, activation='softmax')(y)\n",
    "digit4 = Dense(11, activation='softmax')(y)\n",
    "digit5 = Dense(11, activation='softmax')(y)\n",
    "\n",
    "model = Model(input = x, output = [digit1, digit2, digit3, digit4, digit5])\n",
    "\n",
    "model.compile(loss = 'categorical_crossentropy', optimizer='adam', metrics=['accuracy'])\n",
    "model.summary()"
   ]
  },
  {
   "cell_type": "markdown",
   "metadata": {
    "deletable": true,
    "editable": true
   },
   "source": [
    "### 问题 2\n",
    "_你为解决这个问题采取了什么技术？请详细介绍你使用的技术。_\n",
    "\n",
    "**回答：**  \n",
    "我采用的是卷积神经网络。卷积就是把“区块patch”（一个2维数组）与图像对应点相乘再相加,把最后的结果代替“区块patch”中心点的值，我们要求的就是这个2维数组，我们把它称为权重，另外还要设置偏置项；这里有个共享的概念，即扫描的时候这个2维数组不变，这样就可以大大简化求解参数的数量；在每层卷积层中可以有多个2维数组，每个二维数组称之为过滤器或者卷积核。设置多个卷积核的好处就是，可以捕捉多种信息，比如某个卷积核生成的图片是横向的线，另外一个卷积核生成的是纵向的线。卷积层不止一层，多的可能需要上百层，每一层都要设置patch的大小，卷积核的数量，扫描的横纵向的步长。最后可以将卷积层与全连接层相连，然后得到输出。这个输出要和我们目标值对比，神经网络的输出和目标值的差值用损失函数表示，我们的目的就是让这个损失函数最小。我们采用的是反向传播算法，这种方法可以更新权重和偏置项。一次正向传播和一次反向传播称为一次迭代，我们要在训练集上反复迭代多次，直到损失函数取最小值或接近最小值。对于本项目由于训练集的数据有48000个，为了避免陷入局部极小值的情况和内存不够用的情况，需要设置batchsize，即把训练集平均划分成许多的小的训练集，在这些小训练集上训练（在每个小训练集上完成一次迭代），但仍要设置epoch的数量，即在整体的训练集上循环几次。\n",
    "\n",
    "我还采用了maxpooling,maxpooling就是选1个小方块（如2*2），按设定的步长（如步长是2）扫描已在卷积层上生成的图片，小方块中最大的那个点的数据保留，其余的舍去，最后得到一个简化的图片，即保留了图片的最重要的信息。用maxpooling的好处是（1）可以保证特征的位置与旋转不变性，因为不论这个强特征在哪个位置出现，都会不考虑其出现位置而能把它提出来。（2）MaxPooling能减少模型参数数量，有利于减少模型过拟合问题。  \n",
    "\n",
    "我还采用了dropout，即在卷积层上随机设置部分权重为0，这么做的好处是可以减少计算量，还可以减小过拟合。"
   ]
  },
  {
   "cell_type": "markdown",
   "metadata": {
    "deletable": true,
    "editable": true
   },
   "source": [
    "### 可视化你的网络模型\n",
    "\n",
    "参考链接：[visualization](http://keras-cn.readthedocs.io/en/latest/other/visualization/)\n",
    "\n",
    "可以是 PNG 格式，也可以是 SVG 格式。"
   ]
  },
  {
   "cell_type": "code",
   "execution_count": 79,
   "metadata": {
    "collapsed": false,
    "deletable": true,
    "editable": true,
    "scrolled": true
   },
   "outputs": [
    {
     "data": {
      "image/svg+xml": [
       "<svg height=\"629pt\" viewBox=\"0.00 0.00 635.00 629.00\" width=\"635pt\" xmlns=\"http://www.w3.org/2000/svg\" xmlns:xlink=\"http://www.w3.org/1999/xlink\">\n",
       "<g class=\"graph\" id=\"graph0\" transform=\"scale(1 1) rotate(0) translate(4 625)\">\n",
       "<title>G</title>\n",
       "<polygon fill=\"white\" points=\"-4,4 -4,-625 631,-625 631,4 -4,4\" stroke=\"none\"/>\n",
       "<!-- 516556000 -->\n",
       "<g class=\"node\" id=\"node1\"><title>516556000</title>\n",
       "<polygon fill=\"none\" points=\"250.5,-584.5 250.5,-620.5 376.5,-620.5 376.5,-584.5 250.5,-584.5\" stroke=\"black\"/>\n",
       "<text font-family=\"Times New Roman,serif\" font-size=\"14.00\" text-anchor=\"middle\" x=\"313.5\" y=\"-598.8\">input_6: InputLayer</text>\n",
       "</g>\n",
       "<!-- 516556056 -->\n",
       "<g class=\"node\" id=\"node2\"><title>516556056</title>\n",
       "<polygon fill=\"none\" points=\"246.5,-511.5 246.5,-547.5 380.5,-547.5 380.5,-511.5 246.5,-511.5\" stroke=\"black\"/>\n",
       "<text font-family=\"Times New Roman,serif\" font-size=\"14.00\" text-anchor=\"middle\" x=\"313.5\" y=\"-525.8\">conv2d_11: Conv2D</text>\n",
       "</g>\n",
       "<!-- 516556000&#45;&gt;516556056 -->\n",
       "<g class=\"edge\" id=\"edge1\"><title>516556000-&gt;516556056</title>\n",
       "<path d=\"M313.5,-584.313C313.5,-576.289 313.5,-566.547 313.5,-557.569\" fill=\"none\" stroke=\"black\"/>\n",
       "<polygon fill=\"black\" points=\"317,-557.529 313.5,-547.529 310,-557.529 317,-557.529\" stroke=\"black\"/>\n",
       "</g>\n",
       "<!-- 516581528 -->\n",
       "<g class=\"node\" id=\"node3\"><title>516581528</title>\n",
       "<polygon fill=\"none\" points=\"206,-438.5 206,-474.5 421,-474.5 421,-438.5 206,-438.5\" stroke=\"black\"/>\n",
       "<text font-family=\"Times New Roman,serif\" font-size=\"14.00\" text-anchor=\"middle\" x=\"313.5\" y=\"-452.8\">max_pooling2d_11: MaxPooling2D</text>\n",
       "</g>\n",
       "<!-- 516556056&#45;&gt;516581528 -->\n",
       "<g class=\"edge\" id=\"edge2\"><title>516556056-&gt;516581528</title>\n",
       "<path d=\"M313.5,-511.313C313.5,-503.289 313.5,-493.547 313.5,-484.569\" fill=\"none\" stroke=\"black\"/>\n",
       "<polygon fill=\"black\" points=\"317,-484.529 313.5,-474.529 310,-484.529 317,-484.529\" stroke=\"black\"/>\n",
       "</g>\n",
       "<!-- 516580912 -->\n",
       "<g class=\"node\" id=\"node4\"><title>516580912</title>\n",
       "<polygon fill=\"none\" points=\"245,-365.5 245,-401.5 382,-401.5 382,-365.5 245,-365.5\" stroke=\"black\"/>\n",
       "<text font-family=\"Times New Roman,serif\" font-size=\"14.00\" text-anchor=\"middle\" x=\"313.5\" y=\"-379.8\">dropout_21: Dropout</text>\n",
       "</g>\n",
       "<!-- 516581528&#45;&gt;516580912 -->\n",
       "<g class=\"edge\" id=\"edge3\"><title>516581528-&gt;516580912</title>\n",
       "<path d=\"M313.5,-438.313C313.5,-430.289 313.5,-420.547 313.5,-411.569\" fill=\"none\" stroke=\"black\"/>\n",
       "<polygon fill=\"black\" points=\"317,-411.529 313.5,-401.529 310,-411.529 317,-411.529\" stroke=\"black\"/>\n",
       "</g>\n",
       "<!-- 521061656 -->\n",
       "<g class=\"node\" id=\"node5\"><title>521061656</title>\n",
       "<polygon fill=\"none\" points=\"246.5,-292.5 246.5,-328.5 380.5,-328.5 380.5,-292.5 246.5,-292.5\" stroke=\"black\"/>\n",
       "<text font-family=\"Times New Roman,serif\" font-size=\"14.00\" text-anchor=\"middle\" x=\"313.5\" y=\"-306.8\">conv2d_12: Conv2D</text>\n",
       "</g>\n",
       "<!-- 516580912&#45;&gt;521061656 -->\n",
       "<g class=\"edge\" id=\"edge4\"><title>516580912-&gt;521061656</title>\n",
       "<path d=\"M313.5,-365.313C313.5,-357.289 313.5,-347.547 313.5,-338.569\" fill=\"none\" stroke=\"black\"/>\n",
       "<polygon fill=\"black\" points=\"317,-338.529 313.5,-328.529 310,-338.529 317,-338.529\" stroke=\"black\"/>\n",
       "</g>\n",
       "<!-- 516557624 -->\n",
       "<g class=\"node\" id=\"node6\"><title>516557624</title>\n",
       "<polygon fill=\"none\" points=\"206,-219.5 206,-255.5 421,-255.5 421,-219.5 206,-219.5\" stroke=\"black\"/>\n",
       "<text font-family=\"Times New Roman,serif\" font-size=\"14.00\" text-anchor=\"middle\" x=\"313.5\" y=\"-233.8\">max_pooling2d_12: MaxPooling2D</text>\n",
       "</g>\n",
       "<!-- 521061656&#45;&gt;516557624 -->\n",
       "<g class=\"edge\" id=\"edge5\"><title>521061656-&gt;516557624</title>\n",
       "<path d=\"M313.5,-292.313C313.5,-284.289 313.5,-274.547 313.5,-265.569\" fill=\"none\" stroke=\"black\"/>\n",
       "<polygon fill=\"black\" points=\"317,-265.529 313.5,-255.529 310,-265.529 317,-265.529\" stroke=\"black\"/>\n",
       "</g>\n",
       "<!-- 516717032 -->\n",
       "<g class=\"node\" id=\"node7\"><title>516717032</title>\n",
       "<polygon fill=\"none\" points=\"245,-146.5 245,-182.5 382,-182.5 382,-146.5 245,-146.5\" stroke=\"black\"/>\n",
       "<text font-family=\"Times New Roman,serif\" font-size=\"14.00\" text-anchor=\"middle\" x=\"313.5\" y=\"-160.8\">dropout_22: Dropout</text>\n",
       "</g>\n",
       "<!-- 516557624&#45;&gt;516717032 -->\n",
       "<g class=\"edge\" id=\"edge6\"><title>516557624-&gt;516717032</title>\n",
       "<path d=\"M313.5,-219.313C313.5,-211.289 313.5,-201.547 313.5,-192.569\" fill=\"none\" stroke=\"black\"/>\n",
       "<polygon fill=\"black\" points=\"317,-192.529 313.5,-182.529 310,-192.529 317,-192.529\" stroke=\"black\"/>\n",
       "</g>\n",
       "<!-- 515891040 -->\n",
       "<g class=\"node\" id=\"node8\"><title>515891040</title>\n",
       "<polygon fill=\"none\" points=\"259,-73.5 259,-109.5 368,-109.5 368,-73.5 259,-73.5\" stroke=\"black\"/>\n",
       "<text font-family=\"Times New Roman,serif\" font-size=\"14.00\" text-anchor=\"middle\" x=\"313.5\" y=\"-87.8\">flatten_6: Flatten</text>\n",
       "</g>\n",
       "<!-- 516717032&#45;&gt;515891040 -->\n",
       "<g class=\"edge\" id=\"edge7\"><title>516717032-&gt;515891040</title>\n",
       "<path d=\"M313.5,-146.313C313.5,-138.289 313.5,-128.547 313.5,-119.569\" fill=\"none\" stroke=\"black\"/>\n",
       "<polygon fill=\"black\" points=\"317,-119.529 313.5,-109.529 310,-119.529 317,-119.529\" stroke=\"black\"/>\n",
       "</g>\n",
       "<!-- 515890256 -->\n",
       "<g class=\"node\" id=\"node9\"><title>515890256</title>\n",
       "<polygon fill=\"none\" points=\"0,-0.5 0,-36.5 111,-36.5 111,-0.5 0,-0.5\" stroke=\"black\"/>\n",
       "<text font-family=\"Times New Roman,serif\" font-size=\"14.00\" text-anchor=\"middle\" x=\"55.5\" y=\"-14.8\">dense_26: Dense</text>\n",
       "</g>\n",
       "<!-- 515891040&#45;&gt;515890256 -->\n",
       "<g class=\"edge\" id=\"edge8\"><title>515891040-&gt;515890256</title>\n",
       "<path d=\"M258.785,-75.4427C218.44,-64.34 163.389,-49.1905 120.751,-37.4566\" fill=\"none\" stroke=\"black\"/>\n",
       "<polygon fill=\"black\" points=\"121.596,-34.0592 111.026,-34.7803 119.739,-40.8083 121.596,-34.0592\" stroke=\"black\"/>\n",
       "</g>\n",
       "<!-- 518957880 -->\n",
       "<g class=\"node\" id=\"node10\"><title>518957880</title>\n",
       "<polygon fill=\"none\" points=\"129,-0.5 129,-36.5 240,-36.5 240,-0.5 129,-0.5\" stroke=\"black\"/>\n",
       "<text font-family=\"Times New Roman,serif\" font-size=\"14.00\" text-anchor=\"middle\" x=\"184.5\" y=\"-14.8\">dense_27: Dense</text>\n",
       "</g>\n",
       "<!-- 515891040&#45;&gt;518957880 -->\n",
       "<g class=\"edge\" id=\"edge9\"><title>515891040-&gt;518957880</title>\n",
       "<path d=\"M282.601,-73.4937C265.178,-63.9042 243.216,-51.8167 224.492,-41.5109\" fill=\"none\" stroke=\"black\"/>\n",
       "<polygon fill=\"black\" points=\"226.042,-38.3692 215.594,-36.6136 222.667,-44.5017 226.042,-38.3692\" stroke=\"black\"/>\n",
       "</g>\n",
       "<!-- 515489688 -->\n",
       "<g class=\"node\" id=\"node11\"><title>515489688</title>\n",
       "<polygon fill=\"none\" points=\"258,-0.5 258,-36.5 369,-36.5 369,-0.5 258,-0.5\" stroke=\"black\"/>\n",
       "<text font-family=\"Times New Roman,serif\" font-size=\"14.00\" text-anchor=\"middle\" x=\"313.5\" y=\"-14.8\">dense_28: Dense</text>\n",
       "</g>\n",
       "<!-- 515891040&#45;&gt;515489688 -->\n",
       "<g class=\"edge\" id=\"edge10\"><title>515891040-&gt;515489688</title>\n",
       "<path d=\"M313.5,-73.3129C313.5,-65.2895 313.5,-55.5475 313.5,-46.5691\" fill=\"none\" stroke=\"black\"/>\n",
       "<polygon fill=\"black\" points=\"317,-46.5288 313.5,-36.5288 310,-46.5289 317,-46.5288\" stroke=\"black\"/>\n",
       "</g>\n",
       "<!-- 516213392 -->\n",
       "<g class=\"node\" id=\"node12\"><title>516213392</title>\n",
       "<polygon fill=\"none\" points=\"387,-0.5 387,-36.5 498,-36.5 498,-0.5 387,-0.5\" stroke=\"black\"/>\n",
       "<text font-family=\"Times New Roman,serif\" font-size=\"14.00\" text-anchor=\"middle\" x=\"442.5\" y=\"-14.8\">dense_29: Dense</text>\n",
       "</g>\n",
       "<!-- 515891040&#45;&gt;516213392 -->\n",
       "<g class=\"edge\" id=\"edge11\"><title>515891040-&gt;516213392</title>\n",
       "<path d=\"M344.399,-73.4937C361.822,-63.9042 383.784,-51.8167 402.508,-41.5109\" fill=\"none\" stroke=\"black\"/>\n",
       "<polygon fill=\"black\" points=\"404.333,-44.5017 411.406,-36.6136 400.958,-38.3692 404.333,-44.5017\" stroke=\"black\"/>\n",
       "</g>\n",
       "<!-- 518968488 -->\n",
       "<g class=\"node\" id=\"node13\"><title>518968488</title>\n",
       "<polygon fill=\"none\" points=\"516,-0.5 516,-36.5 627,-36.5 627,-0.5 516,-0.5\" stroke=\"black\"/>\n",
       "<text font-family=\"Times New Roman,serif\" font-size=\"14.00\" text-anchor=\"middle\" x=\"571.5\" y=\"-14.8\">dense_30: Dense</text>\n",
       "</g>\n",
       "<!-- 515891040&#45;&gt;518968488 -->\n",
       "<g class=\"edge\" id=\"edge12\"><title>515891040-&gt;518968488</title>\n",
       "<path d=\"M368.215,-75.4427C408.56,-64.34 463.611,-49.1905 506.249,-37.4566\" fill=\"none\" stroke=\"black\"/>\n",
       "<polygon fill=\"black\" points=\"507.261,-40.8083 515.974,-34.7803 505.404,-34.0592 507.261,-40.8083\" stroke=\"black\"/>\n",
       "</g>\n",
       "</g>\n",
       "</svg>"
      ],
      "text/plain": [
       "<IPython.core.display.SVG object>"
      ]
     },
     "execution_count": 79,
     "metadata": {},
     "output_type": "execute_result"
    }
   ],
   "source": [
    "from IPython.display import SVG\n",
    "from keras.utils.vis_utils import model_to_dot\n",
    "\n",
    "SVG(model_to_dot(model).create(prog='dot', format='svg'))"
   ]
  },
  {
   "cell_type": "markdown",
   "metadata": {
    "deletable": true,
    "editable": true
   },
   "source": [
    "### 问题 3\n",
    "_你最终的模型架构是什么样的？（什么类型的模型，层数，大小, 如何连接等）_\n",
    "\n",
    "**回答：**\n",
    "我Keras来构建模型，用tensorflow作为后端计算。我设置了2个卷积层：  \n",
    "- 第一层我设置了32个卷积核，用3*3扫描，扫描步长横向和纵向都是1，激活函数是“Relu”，padding = valid，即没有padding，生成的图形要小一圈；然后用MaxPooling2x2扫描，横向和纵向步长都是2；并且设置Dropout(0.25)，即每一个神经元独立地以0.25的概率置为0。\n",
    "\n",
    "\n",
    "- 第二层我设置了64个卷积核，用5*5扫描，扫描步长横向和纵向都是1，激活函数是“Relu”，padding = valid，；然后用然后用MaxPooling2x2扫描，横向和纵向步长都是2；并且设置Dropout(0.25)，即每一个神经元独立地以0.25的概率置为0。\n",
    "\n",
    "\n",
    "- 用Flatten层用来将输入“向量化”，即把多维的输入一维化。\n",
    "\n",
    "\n",
    "- Flatten层连接输出层，实际是5个输出层，分别对应5幅图的标签，每个输出层对应11个输出，激活函数是'softmax'。\n",
    "\n",
    "\n",
    "- 最后编译模型，损失函数设置为“categorical_crossentropy”，优化器设置为“adam”，评估标准为准确率'accuracy'。\n",
    "\n",
    "\n",
    "- 构架的可视化见上图。"
   ]
  },
  {
   "cell_type": "markdown",
   "metadata": {
    "deletable": true,
    "editable": true
   },
   "source": [
    "### 练习：训练你的网络模型\n",
    "\n",
    "训练你的模型时，需要设置训练集和验证集。"
   ]
  },
  {
   "cell_type": "code",
   "execution_count": 70,
   "metadata": {
    "collapsed": false,
    "deletable": true,
    "editable": true,
    "scrolled": true
   },
   "outputs": [
    {
     "name": "stdout",
     "output_type": "stream",
     "text": [
      "Train on 48000 samples, validate on 12000 samples\n",
      "Epoch 1/20\n",
      "15s - loss: 24.2283 - dense_26_loss: 5.1832 - dense_27_loss: 4.7722 - dense_28_loss: 4.4212 - dense_29_loss: 4.8413 - dense_30_loss: 5.0104 - dense_26_acc: 0.5436 - dense_27_acc: 0.5845 - dense_28_acc: 0.6071 - dense_29_acc: 0.5709 - dense_30_acc: 0.5411 - val_loss: 1.6909 - val_dense_26_loss: 0.3385 - val_dense_27_loss: 0.3040 - val_dense_28_loss: 0.3001 - val_dense_29_loss: 0.3053 - val_dense_30_loss: 0.4432 - val_dense_26_acc: 0.9014 - val_dense_27_acc: 0.9022 - val_dense_28_acc: 0.9097 - val_dense_29_acc: 0.9038 - val_dense_30_acc: 0.8666\n",
      "Epoch 2/20\n",
      "13s - loss: 1.0716 - dense_26_loss: 0.2017 - dense_27_loss: 0.1999 - dense_28_loss: 0.1920 - dense_29_loss: 0.2084 - dense_30_loss: 0.2696 - dense_26_acc: 0.9388 - dense_27_acc: 0.9381 - dense_28_acc: 0.9420 - dense_29_acc: 0.9367 - dense_30_acc: 0.9173 - val_loss: 0.3832 - val_dense_26_loss: 0.0696 - val_dense_27_loss: 0.0726 - val_dense_28_loss: 0.0712 - val_dense_29_loss: 0.0744 - val_dense_30_loss: 0.0955 - val_dense_26_acc: 0.9778 - val_dense_27_acc: 0.9776 - val_dense_28_acc: 0.9781 - val_dense_29_acc: 0.9777 - val_dense_30_acc: 0.9708\n",
      "Epoch 3/20\n",
      "13s - loss: 0.5005 - dense_26_loss: 0.0917 - dense_27_loss: 0.0918 - dense_28_loss: 0.0898 - dense_29_loss: 0.0975 - dense_30_loss: 0.1295 - dense_26_acc: 0.9711 - dense_27_acc: 0.9714 - dense_28_acc: 0.9719 - dense_29_acc: 0.9699 - dense_30_acc: 0.9587 - val_loss: 0.2638 - val_dense_26_loss: 0.0445 - val_dense_27_loss: 0.0483 - val_dense_28_loss: 0.0508 - val_dense_29_loss: 0.0523 - val_dense_30_loss: 0.0679 - val_dense_26_acc: 0.9858 - val_dense_27_acc: 0.9839 - val_dense_28_acc: 0.9837 - val_dense_29_acc: 0.9838 - val_dense_30_acc: 0.9792\n",
      "Epoch 4/20\n",
      "13s - loss: 0.3476 - dense_26_loss: 0.0663 - dense_27_loss: 0.0625 - dense_28_loss: 0.0610 - dense_29_loss: 0.0682 - dense_30_loss: 0.0896 - dense_26_acc: 0.9794 - dense_27_acc: 0.9805 - dense_28_acc: 0.9807 - dense_29_acc: 0.9784 - dense_30_acc: 0.9714 - val_loss: 0.2247 - val_dense_26_loss: 0.0391 - val_dense_27_loss: 0.0421 - val_dense_28_loss: 0.0447 - val_dense_29_loss: 0.0446 - val_dense_30_loss: 0.0542 - val_dense_26_acc: 0.9866 - val_dense_27_acc: 0.9855 - val_dense_28_acc: 0.9853 - val_dense_29_acc: 0.9853 - val_dense_30_acc: 0.9830\n",
      "Epoch 5/20\n",
      "13s - loss: 0.2766 - dense_26_loss: 0.0505 - dense_27_loss: 0.0508 - dense_28_loss: 0.0514 - dense_29_loss: 0.0522 - dense_30_loss: 0.0716 - dense_26_acc: 0.9841 - dense_27_acc: 0.9841 - dense_28_acc: 0.9839 - dense_29_acc: 0.9829 - dense_30_acc: 0.9768 - val_loss: 0.2071 - val_dense_26_loss: 0.0361 - val_dense_27_loss: 0.0391 - val_dense_28_loss: 0.0366 - val_dense_29_loss: 0.0442 - val_dense_30_loss: 0.0511 - val_dense_26_acc: 0.9880 - val_dense_27_acc: 0.9867 - val_dense_28_acc: 0.9884 - val_dense_29_acc: 0.9865 - val_dense_30_acc: 0.9841\n",
      "Epoch 6/20\n",
      "13s - loss: 0.2273 - dense_26_loss: 0.0423 - dense_27_loss: 0.0425 - dense_28_loss: 0.0400 - dense_29_loss: 0.0432 - dense_30_loss: 0.0593 - dense_26_acc: 0.9864 - dense_27_acc: 0.9865 - dense_28_acc: 0.9870 - dense_29_acc: 0.9859 - dense_30_acc: 0.9809 - val_loss: 0.1918 - val_dense_26_loss: 0.0325 - val_dense_27_loss: 0.0372 - val_dense_28_loss: 0.0350 - val_dense_29_loss: 0.0421 - val_dense_30_loss: 0.0450 - val_dense_26_acc: 0.9891 - val_dense_27_acc: 0.9880 - val_dense_28_acc: 0.9889 - val_dense_29_acc: 0.9871 - val_dense_30_acc: 0.9857\n",
      "Epoch 7/20\n",
      "13s - loss: 0.1955 - dense_26_loss: 0.0376 - dense_27_loss: 0.0372 - dense_28_loss: 0.0331 - dense_29_loss: 0.0375 - dense_30_loss: 0.0501 - dense_26_acc: 0.9882 - dense_27_acc: 0.9879 - dense_28_acc: 0.9885 - dense_29_acc: 0.9876 - dense_30_acc: 0.9833 - val_loss: 0.1819 - val_dense_26_loss: 0.0331 - val_dense_27_loss: 0.0338 - val_dense_28_loss: 0.0337 - val_dense_29_loss: 0.0384 - val_dense_30_loss: 0.0428 - val_dense_26_acc: 0.9893 - val_dense_27_acc: 0.9890 - val_dense_28_acc: 0.9895 - val_dense_29_acc: 0.9885 - val_dense_30_acc: 0.9857\n",
      "Epoch 8/20\n",
      "13s - loss: 0.1683 - dense_26_loss: 0.0323 - dense_27_loss: 0.0298 - dense_28_loss: 0.0314 - dense_29_loss: 0.0306 - dense_30_loss: 0.0442 - dense_26_acc: 0.9896 - dense_27_acc: 0.9905 - dense_28_acc: 0.9899 - dense_29_acc: 0.9895 - dense_30_acc: 0.9855 - val_loss: 0.1775 - val_dense_26_loss: 0.0327 - val_dense_27_loss: 0.0339 - val_dense_28_loss: 0.0320 - val_dense_29_loss: 0.0365 - val_dense_30_loss: 0.0424 - val_dense_26_acc: 0.9904 - val_dense_27_acc: 0.9892 - val_dense_28_acc: 0.9899 - val_dense_29_acc: 0.9894 - val_dense_30_acc: 0.9863\n",
      "Epoch 9/20\n",
      "13s - loss: 0.1429 - dense_26_loss: 0.0273 - dense_27_loss: 0.0269 - dense_28_loss: 0.0242 - dense_29_loss: 0.0261 - dense_30_loss: 0.0385 - dense_26_acc: 0.9907 - dense_27_acc: 0.9913 - dense_28_acc: 0.9921 - dense_29_acc: 0.9915 - dense_30_acc: 0.9868 - val_loss: 0.1781 - val_dense_26_loss: 0.0320 - val_dense_27_loss: 0.0360 - val_dense_28_loss: 0.0291 - val_dense_29_loss: 0.0375 - val_dense_30_loss: 0.0435 - val_dense_26_acc: 0.9906 - val_dense_27_acc: 0.9885 - val_dense_28_acc: 0.9911 - val_dense_29_acc: 0.9903 - val_dense_30_acc: 0.9864\n",
      "Epoch 10/20\n",
      "13s - loss: 0.1257 - dense_26_loss: 0.0229 - dense_27_loss: 0.0251 - dense_28_loss: 0.0202 - dense_29_loss: 0.0242 - dense_30_loss: 0.0333 - dense_26_acc: 0.9918 - dense_27_acc: 0.9918 - dense_28_acc: 0.9933 - dense_29_acc: 0.9920 - dense_30_acc: 0.9893 - val_loss: 0.1743 - val_dense_26_loss: 0.0345 - val_dense_27_loss: 0.0345 - val_dense_28_loss: 0.0304 - val_dense_29_loss: 0.0353 - val_dense_30_loss: 0.0396 - val_dense_26_acc: 0.9908 - val_dense_27_acc: 0.9898 - val_dense_28_acc: 0.9916 - val_dense_29_acc: 0.9899 - val_dense_30_acc: 0.9868\n",
      "Epoch 11/20\n",
      "14s - loss: 0.1143 - dense_26_loss: 0.0231 - dense_27_loss: 0.0198 - dense_28_loss: 0.0212 - dense_29_loss: 0.0225 - dense_30_loss: 0.0277 - dense_26_acc: 0.9924 - dense_27_acc: 0.9934 - dense_28_acc: 0.9931 - dense_29_acc: 0.9926 - dense_30_acc: 0.9912 - val_loss: 0.1780 - val_dense_26_loss: 0.0299 - val_dense_27_loss: 0.0366 - val_dense_28_loss: 0.0267 - val_dense_29_loss: 0.0408 - val_dense_30_loss: 0.0440 - val_dense_26_acc: 0.9913 - val_dense_27_acc: 0.9896 - val_dense_28_acc: 0.9918 - val_dense_29_acc: 0.9884 - val_dense_30_acc: 0.9868\n",
      "Epoch 12/20\n",
      "14s - loss: 0.1043 - dense_26_loss: 0.0182 - dense_27_loss: 0.0182 - dense_28_loss: 0.0187 - dense_29_loss: 0.0192 - dense_30_loss: 0.0300 - dense_26_acc: 0.9943 - dense_27_acc: 0.9937 - dense_28_acc: 0.9937 - dense_29_acc: 0.9934 - dense_30_acc: 0.9902 - val_loss: 0.1769 - val_dense_26_loss: 0.0333 - val_dense_27_loss: 0.0344 - val_dense_28_loss: 0.0315 - val_dense_29_loss: 0.0375 - val_dense_30_loss: 0.0401 - val_dense_26_acc: 0.9918 - val_dense_27_acc: 0.9901 - val_dense_28_acc: 0.9900 - val_dense_29_acc: 0.9898 - val_dense_30_acc: 0.9883\n",
      "Epoch 13/20\n",
      "12s - loss: 0.0973 - dense_26_loss: 0.0186 - dense_27_loss: 0.0182 - dense_28_loss: 0.0164 - dense_29_loss: 0.0173 - dense_30_loss: 0.0268 - dense_26_acc: 0.9940 - dense_27_acc: 0.9940 - dense_28_acc: 0.9940 - dense_29_acc: 0.9941 - dense_30_acc: 0.9914 - val_loss: 0.1897 - val_dense_26_loss: 0.0352 - val_dense_27_loss: 0.0380 - val_dense_28_loss: 0.0303 - val_dense_29_loss: 0.0431 - val_dense_30_loss: 0.0432 - val_dense_26_acc: 0.9906 - val_dense_27_acc: 0.9894 - val_dense_28_acc: 0.9910 - val_dense_29_acc: 0.9887 - val_dense_30_acc: 0.9882\n",
      "Epoch 14/20\n",
      "13s - loss: 0.0916 - dense_26_loss: 0.0163 - dense_27_loss: 0.0172 - dense_28_loss: 0.0154 - dense_29_loss: 0.0161 - dense_30_loss: 0.0265 - dense_26_acc: 0.9945 - dense_27_acc: 0.9944 - dense_28_acc: 0.9949 - dense_29_acc: 0.9944 - dense_30_acc: 0.9913 - val_loss: 0.1857 - val_dense_26_loss: 0.0367 - val_dense_27_loss: 0.0336 - val_dense_28_loss: 0.0325 - val_dense_29_loss: 0.0389 - val_dense_30_loss: 0.0439 - val_dense_26_acc: 0.9907 - val_dense_27_acc: 0.9902 - val_dense_28_acc: 0.9906 - val_dense_29_acc: 0.9892 - val_dense_30_acc: 0.9871\n",
      "Epoch 15/20\n",
      "13s - loss: 0.0883 - dense_26_loss: 0.0163 - dense_27_loss: 0.0174 - dense_28_loss: 0.0144 - dense_29_loss: 0.0170 - dense_30_loss: 0.0232 - dense_26_acc: 0.9942 - dense_27_acc: 0.9944 - dense_28_acc: 0.9951 - dense_29_acc: 0.9944 - dense_30_acc: 0.9923 - val_loss: 0.1772 - val_dense_26_loss: 0.0336 - val_dense_27_loss: 0.0340 - val_dense_28_loss: 0.0314 - val_dense_29_loss: 0.0385 - val_dense_30_loss: 0.0398 - val_dense_26_acc: 0.9906 - val_dense_27_acc: 0.9901 - val_dense_28_acc: 0.9906 - val_dense_29_acc: 0.9895 - val_dense_30_acc: 0.9898\n",
      "Epoch 16/20\n",
      "13s - loss: 0.0837 - dense_26_loss: 0.0167 - dense_27_loss: 0.0149 - dense_28_loss: 0.0142 - dense_29_loss: 0.0144 - dense_30_loss: 0.0234 - dense_26_acc: 0.9941 - dense_27_acc: 0.9949 - dense_28_acc: 0.9949 - dense_29_acc: 0.9951 - dense_30_acc: 0.9923 - val_loss: 0.1782 - val_dense_26_loss: 0.0378 - val_dense_27_loss: 0.0327 - val_dense_28_loss: 0.0321 - val_dense_29_loss: 0.0346 - val_dense_30_loss: 0.0410 - val_dense_26_acc: 0.9915 - val_dense_27_acc: 0.9908 - val_dense_28_acc: 0.9911 - val_dense_29_acc: 0.9908 - val_dense_30_acc: 0.9880\n",
      "Epoch 17/20\n",
      "13s - loss: 0.0744 - dense_26_loss: 0.0147 - dense_27_loss: 0.0126 - dense_28_loss: 0.0115 - dense_29_loss: 0.0145 - dense_30_loss: 0.0211 - dense_26_acc: 0.9951 - dense_27_acc: 0.9957 - dense_28_acc: 0.9963 - dense_29_acc: 0.9948 - dense_30_acc: 0.9930 - val_loss: 0.1831 - val_dense_26_loss: 0.0329 - val_dense_27_loss: 0.0353 - val_dense_28_loss: 0.0343 - val_dense_29_loss: 0.0359 - val_dense_30_loss: 0.0447 - val_dense_26_acc: 0.9912 - val_dense_27_acc: 0.9905 - val_dense_28_acc: 0.9908 - val_dense_29_acc: 0.9909 - val_dense_30_acc: 0.9872\n",
      "Epoch 18/20\n",
      "13s - loss: 0.0683 - dense_26_loss: 0.0120 - dense_27_loss: 0.0112 - dense_28_loss: 0.0143 - dense_29_loss: 0.0129 - dense_30_loss: 0.0180 - dense_26_acc: 0.9959 - dense_27_acc: 0.9961 - dense_28_acc: 0.9953 - dense_29_acc: 0.9955 - dense_30_acc: 0.9939 - val_loss: 0.1900 - val_dense_26_loss: 0.0352 - val_dense_27_loss: 0.0354 - val_dense_28_loss: 0.0342 - val_dense_29_loss: 0.0397 - val_dense_30_loss: 0.0455 - val_dense_26_acc: 0.9902 - val_dense_27_acc: 0.9909 - val_dense_28_acc: 0.9910 - val_dense_29_acc: 0.9904 - val_dense_30_acc: 0.9880\n",
      "Epoch 19/20\n",
      "13s - loss: 0.0726 - dense_26_loss: 0.0128 - dense_27_loss: 0.0124 - dense_28_loss: 0.0123 - dense_29_loss: 0.0141 - dense_30_loss: 0.0210 - dense_26_acc: 0.9959 - dense_27_acc: 0.9961 - dense_28_acc: 0.9960 - dense_29_acc: 0.9951 - dense_30_acc: 0.9927 - val_loss: 0.1838 - val_dense_26_loss: 0.0401 - val_dense_27_loss: 0.0333 - val_dense_28_loss: 0.0314 - val_dense_29_loss: 0.0396 - val_dense_30_loss: 0.0393 - val_dense_26_acc: 0.9904 - val_dense_27_acc: 0.9916 - val_dense_28_acc: 0.9914 - val_dense_29_acc: 0.9902 - val_dense_30_acc: 0.9898\n",
      "Epoch 20/20\n",
      "13s - loss: 0.0673 - dense_26_loss: 0.0128 - dense_27_loss: 0.0113 - dense_28_loss: 0.0100 - dense_29_loss: 0.0144 - dense_30_loss: 0.0188 - dense_26_acc: 0.9959 - dense_27_acc: 0.9963 - dense_28_acc: 0.9965 - dense_29_acc: 0.9951 - dense_30_acc: 0.9944 - val_loss: 0.1827 - val_dense_26_loss: 0.0355 - val_dense_27_loss: 0.0337 - val_dense_28_loss: 0.0321 - val_dense_29_loss: 0.0388 - val_dense_30_loss: 0.0426 - val_dense_26_acc: 0.9913 - val_dense_27_acc: 0.9909 - val_dense_28_acc: 0.9912 - val_dense_29_acc: 0.9911 - val_dense_30_acc: 0.9898\n",
      "spend: 272.579181 s\n"
     ]
    }
   ],
   "source": [
    "# TODO: 训练你的模型\n",
    "start = time.clock()\n",
    "model.fit(X_train, y_train, batch_size=512, epochs=20, validation_data=(X_valid, y_valid), verbose=2)\n",
    "end = time.clock()\n",
    "print (\"spend: %f s\" % (end - start))"
   ]
  },
  {
   "cell_type": "markdown",
   "metadata": {
    "deletable": true,
    "editable": true
   },
   "source": [
    "### 练习：计算你的模型准确率\n",
    "\n",
    "我们刚才得到了模型每个数字的准确率，现在让我们来计算整体准确率，按照完全预测正确数字序列的标准来计算。\n",
    "\n",
    "比如 1,2,3,10,10 预测成了 1,2,10,10,10 算错，而不是算对了80%。"
   ]
  },
  {
   "cell_type": "code",
   "execution_count": 80,
   "metadata": {
    "collapsed": false,
    "deletable": true,
    "editable": true,
    "scrolled": true
   },
   "outputs": [
    {
     "name": "stdout",
     "output_type": "stream",
     "text": [
      "0.9575\n"
     ]
    }
   ],
   "source": [
    "from keras import metrics\n",
    "\n",
    "def evaluate(model):\n",
    "    # TODO: 按照错一个就算错的规则计算准确率\n",
    "    y_pred = model.predict(X_test, batch_size=512, verbose=0)\n",
    "    pred = np.argmax(y_pred, axis=2)\n",
    "    test = np.argmax(y_test, axis=2)\n",
    "    return np.min((pred==test), axis=0).mean()\n",
    "\n",
    "print(evaluate(model))"
   ]
  },
  {
   "cell_type": "markdown",
   "metadata": {
    "deletable": true,
    "editable": true
   },
   "source": [
    "##### 问题 4\n",
    "\n",
    "_你的模型准确率有多少？你觉得你的模型足以解决问题吗？_\n",
    "\n",
    "**回答：**  \n",
    "在测试集上要考虑5张图片全对的概率。在测试集上我模型的准确率为95.75%，我认为我的模型可以解决实际问题。实际上epoch=10的情况，准确率都超过了94%。"
   ]
  },
  {
   "cell_type": "markdown",
   "metadata": {
    "deletable": true,
    "editable": true
   },
   "source": [
    "### 预测值可视化\n",
    "\n",
    "我们将模型的预测结果和真实值画出来，观察真实效果。"
   ]
  },
  {
   "cell_type": "code",
   "execution_count": 82,
   "metadata": {
    "collapsed": false,
    "deletable": true,
    "editable": true,
    "scrolled": false
   },
   "outputs": [
    {
     "data": {
      "text/plain": [
       "(-0.5, 139.5, 27.5, -0.5)"
      ]
     },
     "execution_count": 82,
     "metadata": {},
     "output_type": "execute_result"
    },
    {
     "data": {
      "image/png": "[encoded data removed]",
      "text/plain": [
       "<matplotlib.figure.Figure at 0x1765bb00>"
      ]
     },
     "metadata": {
      "image/png": {
       "height": 127,
       "width": 370
      }
     },
     "output_type": "display_data"
    }
   ],
   "source": [
    "def get_result(result):\n",
    "    # 将 one_hot 编码解码\n",
    "    resultstr = ''\n",
    "    for i in range(n_len):\n",
    "        resultstr += str(np.argmax(result[i])) + ','\n",
    "    return resultstr\n",
    "\n",
    "index = random.randint(0, n_test-1)\n",
    "y_pred = model.predict(X_test[index].reshape(1, height, width*n_len, 1))\n",
    "\n",
    "plt.title('real: %s\\npred:%s'%(get_result([y_test[x][index] for x in range(n_len)]), get_result(y_pred)))\n",
    "plt.imshow(X_test[index,:,:,0], cmap='gray')\n",
    "plt.axis('off')"
   ]
  },
  {
   "cell_type": "markdown",
   "metadata": {
    "deletable": true,
    "editable": true
   },
   "source": [
    "### 保存模型\n",
    "\n",
    "模型达到满意的效果以后，我们需要将模型的权值和结构保存，以便下次调用。"
   ]
  },
  {
   "cell_type": "code",
   "execution_count": 83,
   "metadata": {
    "collapsed": false,
    "deletable": true,
    "editable": true
   },
   "outputs": [],
   "source": [
    "model.save_weights('model.h5')\n",
    "with open('model.json', 'w') as f:\n",
    "    f.write(model.to_json())"
   ]
  }
 ],
 "metadata": {
  "anaconda-cloud": {},
  "kernelspec": {
   "display_name": "Python 3",
   "language": "python",
   "name": "python3"
  },
  "language_info": {
   "codemirror_mode": {
    "name": "ipython",
    "version": 3
   },
   "file_extension": ".py",
   "mimetype": "text/x-python",
   "name": "python",
   "nbconvert_exporter": "python",
   "pygments_lexer": "ipython3",
   "version": "3.5.2"
  }
 },
 "nbformat": 4,
 "nbformat_minor": 0
}
